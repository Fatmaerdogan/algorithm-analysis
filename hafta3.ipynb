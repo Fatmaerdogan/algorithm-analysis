{
 "cells": [
  {
   "cell_type": "code",
   "execution_count": 1,
   "metadata": {},
   "outputs": [],
   "source": [
    "arr=[2,1,6,-2,4,9,-5]"
   ]
  },
  {
   "cell_type": "code",
   "execution_count": 2,
   "metadata": {},
   "outputs": [],
   "source": [
    "def insert_sort(arr=[2,1,6,-2,4,9,-5]):\n",
    "        n=len(arr)\n",
    "        loop_counter=0\n",
    "        for i in range(n):\n",
    "            key=arr[i]\n",
    "            j=i-1\n",
    "            while j>=0 and key<arr[j]:\n",
    "                arr[j+1]=arr[j]\n",
    "                j=j-1\n",
    "                loop_counter=loop_counter + 1\n",
    "            arr[j+1]=key\n",
    "        return arr,loop_counter"
   ]
  },
  {
   "cell_type": "code",
   "execution_count": 3,
   "metadata": {},
   "outputs": [],
   "source": [
    "arr,c=insert_sort()"
   ]
  },
  {
   "cell_type": "code",
   "execution_count": 4,
   "metadata": {},
   "outputs": [
    {
     "name": "stdout",
     "output_type": "stream",
     "text": [
      "[-5, -2, 1, 2, 4, 6, 9] 11\n"
     ]
    }
   ],
   "source": [
    "print(arr,c)"
   ]
  },
  {
   "cell_type": "code",
   "execution_count": null,
   "metadata": {},
   "outputs": [],
   "source": []
  }
 ],
 "metadata": {
  "kernelspec": {
   "display_name": "Python 3",
   "language": "python",
   "name": "python3"
  },
  "language_info": {
   "codemirror_mode": {
    "name": "ipython",
    "version": 3
   },
   "file_extension": ".py",
   "mimetype": "text/x-python",
   "name": "python",
   "nbconvert_exporter": "python",
   "pygments_lexer": "ipython3",
   "version": "3.7.3"
  }
 },
 "nbformat": 4,
 "nbformat_minor": 2
}
