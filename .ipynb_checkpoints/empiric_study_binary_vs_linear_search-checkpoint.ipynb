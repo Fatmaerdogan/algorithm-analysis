{
 "cells": [
  {
   "cell_type": "code",
   "execution_count": 1,
   "metadata": {},
   "outputs": [],
   "source": [
    "def my_binary_search(my_list,item_search):\n",
    "    found=(-1,-1,0)\n",
    "    low=0\n",
    "    high=len(my_list)-1\n",
    "    s=0\n",
    "    while low <= high:\n",
    "        mid=(low+high)//2\n",
    "        #print(low,high,mid)\n",
    "        s=s+1\n",
    "        if my_list[mid]==item_search:\n",
    "            return my_list[mid],mid\n",
    "        elif my_list[mid]>item_search:\n",
    "            high=mid+1\n",
    "    print(s)\n",
    "    return found[0],found[1],s"
   ]
  },
  {
   "cell_type": "code",
   "execution_count": 2,
   "metadata": {},
   "outputs": [],
   "source": [
    "def my_linear_search(my_list,item_search):\n",
    "    found=(-1,-1) #listede yoksa\n",
    "    n=len(my_list)\n",
    "    for i in range(n):\n",
    "        if my_list[i]==item_search:\n",
    "            found=(my_list[i],i)\n",
    "            break #uncomment for last found\n",
    "    return found"
   ]
  },
  {
   "cell_type": "code",
   "execution_count": 3,
   "metadata": {},
   "outputs": [],
   "source": [
    "import random\n",
    "def get_n_random_numbers(n=10,min=-5,max=5):\n",
    "    numbers=[]\n",
    "    for i in range(n):\n",
    "        numbers.append(random.randint(min,max))\n",
    "    return numbers"
   ]
  },
  {
   "cell_type": "code",
   "execution_count": 4,
   "metadata": {},
   "outputs": [],
   "source": [
    "def my_bubble_sort(my_list):\n",
    "    n=len(my_list)\n",
    "    print(my_list)\n",
    "    for i in range(n-1,-1,-1):\n",
    "        for j in range(0,i):\n",
    "            if not(my_list[j]<my_list[j+1]):\n",
    "                temp=my_list[j]\n",
    "                my_list[j]=my_list[j+1]\n",
    "                my_list[j+1]=temp\n",
    "    return my_list"
   ]
  },
  {
   "cell_type": "code",
   "execution_count": 5,
   "metadata": {},
   "outputs": [
    {
     "data": {
      "text/plain": [
       "[-5, -10, 4, -5]"
      ]
     },
     "execution_count": 5,
     "metadata": {},
     "output_type": "execute_result"
    }
   ],
   "source": [
    "x_low=-10\n",
    "x_high=10\n",
    "array_size=4\n",
    "my_list=get_n_random_numbers(array_size,x_low,x_high)\n",
    "my_list"
   ]
  },
  {
   "cell_type": "code",
   "execution_count": 6,
   "metadata": {},
   "outputs": [
    {
     "name": "stdout",
     "output_type": "stream",
     "text": [
      "[-5, -10, 4, -5]\n"
     ]
    },
    {
     "data": {
      "text/plain": [
       "[-10, -5, -5, 4]"
      ]
     },
     "execution_count": 6,
     "metadata": {},
     "output_type": "execute_result"
    }
   ],
   "source": [
    "my_list=my_bubble_sort(my_list)\n",
    "my_list"
   ]
  },
  {
   "cell_type": "code",
   "execution_count": 7,
   "metadata": {},
   "outputs": [
    {
     "data": {
      "text/plain": [
       "4"
      ]
     },
     "execution_count": 7,
     "metadata": {},
     "output_type": "execute_result"
    }
   ],
   "source": [
    "my_search_items=get_n_random_numbers(1,x_low,x_high)\n",
    "my_search_items\n",
    "\n",
    "my_search_items=my_search_items[0]\n",
    "my_search_items"
   ]
  },
  {
   "cell_type": "code",
   "execution_count": null,
   "metadata": {},
   "outputs": [],
   "source": [
    "def my_experimental_study(iterNum=10):\n",
    "    cost=[]\n",
    "    x_low=-10\n",
    "    x_high=10\n",
    "    array_size=10\n",
    "    print(\"array size:\",array_size)\n",
    "    for i in range(iterNum):\n",
    "        my_list=get_n_random_numbers(array_size,x_low,x_high)\n",
    "        my_list=my_bubble_sort(my_list)\n",
    "        \n",
    "        my_search_items=get_n_random_numbers(1,x_low,x_high)\n",
    "        my_search_items=my_search_items[0]\n",
    "        \n",
    "        result=my_binary_search(my_list,my_search_items)\n",
    "        cost.append(result[2])\n",
    "       \n",
    "    \n",
    "    return cost"
   ]
  },
  {
   "cell_type": "code",
   "execution_count": null,
   "metadata": {},
   "outputs": [],
   "source": [
    "c_s=my_experimental_study()"
   ]
  },
  {
   "cell_type": "code",
   "execution_count": null,
   "metadata": {},
   "outputs": [],
   "source": [
    "c_s"
   ]
  },
  {
   "cell_type": "code",
   "execution_count": null,
   "metadata": {},
   "outputs": [],
   "source": [
    "import matplotlib.pyplot as plt"
   ]
  },
  {
   "cell_type": "code",
   "execution_count": null,
   "metadata": {},
   "outputs": [],
   "source": [
    "plt.plot(c_s)"
   ]
  },
  {
   "cell_type": "code",
   "execution_count": null,
   "metadata": {},
   "outputs": [],
   "source": [
    "my_binary_search(my_list,my_search_items)"
   ]
  }
 ],
 "metadata": {
  "kernelspec": {
   "display_name": "Python 3",
   "language": "python",
   "name": "python3"
  },
  "language_info": {
   "codemirror_mode": {
    "name": "ipython",
    "version": 3
   },
   "file_extension": ".py",
   "mimetype": "text/x-python",
   "name": "python",
   "nbconvert_exporter": "python",
   "pygments_lexer": "ipython3",
   "version": "3.7.3"
  }
 },
 "nbformat": 4,
 "nbformat_minor": 2
}
