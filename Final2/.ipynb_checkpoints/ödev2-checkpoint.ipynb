{
 "cells": [
  {
   "cell_type": "code",
   "execution_count": 16,
   "metadata": {},
   "outputs": [],
   "source": [
    "import random\n",
    "\n",
    "def new_vector(n):\n",
    "    vector = []\n",
    "    for i in range(n):\n",
    "        vector.append(random.randint(0,10))\n",
    "##    print(vec)\n",
    "    return vector"
   ]
  },
  {
   "cell_type": "code",
   "execution_count": 17,
   "metadata": {},
   "outputs": [],
   "source": [
    "def skaler_mul_vectors(v1,v2):\n",
    "    mul_len = len(v1)\n",
    "    if(mul_len > len(v2)):\n",
    "        mul_len = len(v2)\n",
    "    mul = 0\n",
    "    for i in range(mul_len):\n",
    "        mul += v1[i]*v2[i]\n",
    "    return mul"
   ]
  },
  {
   "cell_type": "code",
   "execution_count": 18,
   "metadata": {},
   "outputs": [
    {
     "name": "stdout",
     "output_type": "stream",
     "text": [
      "117\n"
     ]
    }
   ],
   "source": [
    "\n",
    "print(skaler_mul_vectors(new_vector(8),new_vector(8)))"
   ]
  },
  {
   "cell_type": "code",
   "execution_count": 39,
   "metadata": {},
   "outputs": [],
   "source": [
    "def print_matrix(m):\n",
    "    print(\"----------------\")\n",
    "    for i in m:\n",
    "        print(i)"
   ]
  },
  {
   "cell_type": "code",
   "execution_count": 40,
   "metadata": {},
   "outputs": [],
   "source": [
    "def new_matrix(m,n):\n",
    "    matrix = []\n",
    "    for i in range(m):\n",
    "        matrix.append(new_vector(n))\n",
    "    print_matrix(matrix)\n",
    "    return matrix"
   ]
  },
  {
   "cell_type": "code",
   "execution_count": 41,
   "metadata": {},
   "outputs": [
    {
     "name": "stdout",
     "output_type": "stream",
     "text": [
      "----------------\n",
      "[7, 0, 7, 10, 3, 10, 8, 6]\n",
      "[1, 7, 4, 1, 8, 9, 9, 3]\n",
      "[0, 6, 6, 9, 2, 2, 1, 8]\n",
      "[3, 6, 8, 4, 10, 5, 7, 2]\n",
      "[6, 9, 0, 2, 0, 2, 7, 3]\n",
      "[0, 4, 6, 0, 2, 8, 8, 0]\n",
      "[0, 10, 5, 4, 7, 8, 9, 1]\n",
      "[0, 2, 2, 2, 0, 10, 8, 6]\n",
      "----------------\n",
      "[7, 0, 7, 10, 3, 10, 8, 6]\n",
      "[1, 7, 4, 1, 8, 9, 9, 3]\n",
      "[0, 6, 6, 9, 2, 2, 1, 8]\n",
      "[3, 6, 8, 4, 10, 5, 7, 2]\n",
      "[6, 9, 0, 2, 0, 2, 7, 3]\n",
      "[0, 4, 6, 0, 2, 8, 8, 0]\n",
      "[0, 10, 5, 4, 7, 8, 9, 1]\n",
      "[0, 2, 2, 2, 0, 10, 8, 6]\n"
     ]
    }
   ],
   "source": [
    "matrix1=[]\n",
    "matrix1=new_matrix(8,8)\n",
    "print_matrix(matrix1)"
   ]
  },
  {
   "cell_type": "code",
   "execution_count": 42,
   "metadata": {},
   "outputs": [],
   "source": [
    "def mul_matrixs(m1,m2):\n",
    "    if(len(m1[0]) == len(m2)):\n",
    "        rev_m2 = rev_matrix(m2)\n",
    "        mul_matrixs = []\n",
    "        for i in range(len(m1)):\n",
    "            mul_matrixs.append([])\n",
    "            for j in range(len(rev_m2)):\n",
    "                mul_matrixs[i].append(skaler_mul_vectors(m1[i],rev_m2[j]))\n",
    "        return mul_matrixs\n",
    "    else:\n",
    "        return None"
   ]
  },
  {
   "cell_type": "code",
   "execution_count": 43,
   "metadata": {},
   "outputs": [],
   "source": [
    "def rev_matrix(m):\n",
    "    revers = []\n",
    "    for i in range(len(m[0])):\n",
    "        revers.append([])\n",
    "        for j in range(len(m)):\n",
    "            revers[i].append(m[j][i])\n",
    "    return revers\n",
    "\n",
    "def mul_matrix_list(my_list):\n",
    "    mulmat = my_list[0]\n",
    "    for i in range(1,len(my_list)):\n",
    "        res = mul_matrixs(mulmat,my_list[i])\n",
    "        if(mulmat == None):\n",
    "            return None\n",
    "    return mulmat"
   ]
  },
  {
   "cell_type": "code",
   "execution_count": 53,
   "metadata": {},
   "outputs": [],
   "source": [
    "def tester():\n",
    "##  test 2 -> Başarısız\n",
    "    my_list = []\n",
    "    for i in range(5):\n",
    "        my_list.append(new_matrix(3,6))\n",
    "    s = mul_matrix_list(my_list)\n",
    "    if(s != None):\n",
    "        print_matrix(s)\n",
    "    else:\n",
    "        print(\"carpilamaz--------------------------------------\")\n",
    "##  test 2 -> Başarılı\n",
    "    print(\"-----\")\n",
    "    my_list2 = []\n",
    "    for i in range(5):\n",
    "        my_list2.append(new_matrix(4,4))\n",
    "    s2 = mul_matrix_list(my_list2)\n",
    "    if(s2 != None):\n",
    "        print_matrix(s2)\n",
    "    else:\n",
    "        print(\"carpilamaz--------------------------------------\")\n"
   ]
  },
  {
   "cell_type": "code",
   "execution_count": 54,
   "metadata": {},
   "outputs": [
    {
     "name": "stdout",
     "output_type": "stream",
     "text": [
      "----------------\n",
      "[8, 4, 4, 4, 1, 10]\n",
      "[2, 3, 2, 5, 1, 1]\n",
      "[2, 6, 3, 6, 8, 4]\n",
      "----------------\n",
      "[7, 3, 2, 8, 5, 10]\n",
      "[2, 4, 0, 2, 9, 9]\n",
      "[3, 7, 1, 2, 7, 9]\n",
      "----------------\n",
      "[5, 2, 9, 4, 7, 7]\n",
      "[0, 1, 7, 1, 3, 0]\n",
      "[1, 8, 1, 1, 3, 10]\n",
      "----------------\n",
      "[6, 3, 1, 1, 10, 4]\n",
      "[7, 10, 2, 7, 7, 1]\n",
      "[6, 7, 10, 2, 9, 7]\n",
      "----------------\n",
      "[1, 2, 3, 2, 6, 10]\n",
      "[8, 6, 10, 0, 8, 1]\n",
      "[0, 0, 7, 9, 7, 9]\n",
      "carpilamaz--------------------------------------\n",
      "-----\n",
      "----------------\n",
      "[1, 6, 8, 9]\n",
      "[0, 6, 7, 8]\n",
      "[6, 5, 5, 7]\n",
      "[8, 1, 6, 5]\n",
      "----------------\n",
      "[6, 0, 7, 9]\n",
      "[5, 5, 6, 6]\n",
      "[8, 8, 10, 7]\n",
      "[2, 9, 3, 3]\n",
      "----------------\n",
      "[2, 2, 8, 4]\n",
      "[5, 4, 6, 8]\n",
      "[7, 3, 6, 10]\n",
      "[5, 4, 4, 3]\n",
      "----------------\n",
      "[8, 3, 5, 9]\n",
      "[6, 1, 9, 1]\n",
      "[0, 2, 0, 0]\n",
      "[9, 4, 6, 8]\n",
      "----------------\n",
      "[3, 3, 10, 8]\n",
      "[3, 10, 1, 0]\n",
      "[8, 10, 4, 5]\n",
      "[3, 4, 7, 3]\n",
      "----------------\n",
      "[899660, 1289020, 1322714, 980380]\n",
      "[788521, 1129765, 1159368, 859310]\n",
      "[811986, 1163348, 1193138, 884496]\n",
      "[735201, 1053607, 1080394, 800754]\n"
     ]
    }
   ],
   "source": [
    " tester()"
   ]
  },
  {
   "cell_type": "code",
   "execution_count": null,
   "metadata": {},
   "outputs": [],
   "source": []
  },
  {
   "cell_type": "code",
   "execution_count": null,
   "metadata": {},
   "outputs": [],
   "source": []
  }
 ],
 "metadata": {
  "kernelspec": {
   "display_name": "Python 3",
   "language": "python",
   "name": "python3"
  },
  "language_info": {
   "codemirror_mode": {
    "name": "ipython",
    "version": 3
   },
   "file_extension": ".py",
   "mimetype": "text/x-python",
   "name": "python",
   "nbconvert_exporter": "python",
   "pygments_lexer": "ipython3",
   "version": "3.7.3"
  }
 },
 "nbformat": 4,
 "nbformat_minor": 2
}
