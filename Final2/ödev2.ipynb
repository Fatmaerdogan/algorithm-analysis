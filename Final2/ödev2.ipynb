{
 "cells": [
  {
   "cell_type": "code",
   "execution_count": 128,
   "metadata": {},
   "outputs": [],
   "source": [
    "import random\n",
    "\n",
    "def new_vector(n):\n",
    "    vector = []\n",
    "    for i in range(n):\n",
    "        vector.append(random.randint(0,10))\n",
    "##    print(vec)\n",
    "    return vector"
   ]
  },
  {
   "cell_type": "code",
   "execution_count": 129,
   "metadata": {},
   "outputs": [],
   "source": [
    "def skaler_mul_vectors(v1,v2):\n",
    "    mul_len = len(v1)\n",
    "    if(mul_len > len(v2)):\n",
    "        mul_len = len(v2)\n",
    "    mul = 0\n",
    "    for i in range(mul_len):\n",
    "        mul += v1[i]*v2[i]\n",
    "    return mul"
   ]
  },
  {
   "cell_type": "code",
   "execution_count": 130,
   "metadata": {},
   "outputs": [
    {
     "name": "stdout",
     "output_type": "stream",
     "text": [
      "229\n"
     ]
    }
   ],
   "source": [
    "\n",
    "print(skaler_mul_vectors(new_vector(8),new_vector(8)))"
   ]
  },
  {
   "cell_type": "code",
   "execution_count": 131,
   "metadata": {},
   "outputs": [],
   "source": [
    "def print_matrix(m):\n",
    "    print(\"----------------\")\n",
    "    for i in m:\n",
    "        print(i)"
   ]
  },
  {
   "cell_type": "code",
   "execution_count": 132,
   "metadata": {},
   "outputs": [],
   "source": [
    "def new_matrix(m,n):\n",
    "    matrix = []\n",
    "    for i in range(m):\n",
    "        matrix.append(new_vector(n))\n",
    "    print_matrix(matrix)\n",
    "    return matrix"
   ]
  },
  {
   "cell_type": "code",
   "execution_count": 133,
   "metadata": {},
   "outputs": [
    {
     "name": "stdout",
     "output_type": "stream",
     "text": [
      "----------------\n",
      "[5, 5, 4, 3, 0, 0, 9, 2]\n",
      "[3, 8, 10, 1, 4, 7, 3, 10]\n",
      "[6, 4, 4, 0, 2, 7, 1, 9]\n",
      "[8, 3, 5, 0, 6, 6, 1, 9]\n",
      "[5, 1, 9, 0, 0, 2, 2, 9]\n",
      "[4, 3, 9, 1, 3, 8, 4, 8]\n",
      "[4, 10, 8, 9, 4, 0, 9, 9]\n",
      "[5, 7, 9, 5, 3, 4, 8, 9]\n",
      "----------------\n",
      "[5, 5, 4, 3, 0, 0, 9, 2]\n",
      "[3, 8, 10, 1, 4, 7, 3, 10]\n",
      "[6, 4, 4, 0, 2, 7, 1, 9]\n",
      "[8, 3, 5, 0, 6, 6, 1, 9]\n",
      "[5, 1, 9, 0, 0, 2, 2, 9]\n",
      "[4, 3, 9, 1, 3, 8, 4, 8]\n",
      "[4, 10, 8, 9, 4, 0, 9, 9]\n",
      "[5, 7, 9, 5, 3, 4, 8, 9]\n"
     ]
    }
   ],
   "source": [
    "matrix1=[]\n",
    "matrix1=new_matrix(8,8)\n",
    "print_matrix(matrix1)"
   ]
  },
  {
   "cell_type": "code",
   "execution_count": 134,
   "metadata": {},
   "outputs": [],
   "source": [
    "\n",
    "def mul_matrixs(mat1, mat2):\n",
    "    if (len(mat1[0]) == len(mat2)):\n",
    "        product = []\n",
    "        for i in range(len(mat1)):\n",
    "            vec1 = mat1[i]\n",
    "            product.append([])\n",
    "            for j in range(len(mat2)):\n",
    "                vec2 = [row[j] for row in mat2]\n",
    "                product[i].append(skaler_mul_vectors(vec1, vec2))\n",
    "    else:\n",
    "        return None    "
   ]
  },
  {
   "cell_type": "code",
   "execution_count": 135,
   "metadata": {},
   "outputs": [],
   "source": [
    "def rev_matrix(m):\n",
    "    revers = []\n",
    "    for i in range(len(m[0])):\n",
    "        revers.append([])\n",
    "        for j in range(len(m)):\n",
    "            revers[i].append(m[j][i])\n",
    "    return revers\n",
    "\n",
    "def mul_matrix_list(my_list):\n",
    "    mulmat = my_list[0]\n",
    "    for i in range(1,len(my_list)):\n",
    "        mulmat = mul_matrixs(mulmat,my_list[i])\n",
    "        if(mulmat == None):\n",
    "            return None\n",
    "    return mulmat"
   ]
  },
  {
   "cell_type": "code",
   "execution_count": 136,
   "metadata": {},
   "outputs": [],
   "source": [
    "def tester():\n",
    "##  test 2 -> Başarısız\n",
    "    my_list = []\n",
    "    for i in range(5):\n",
    "        my_list.append(new_matrix(3,6))\n",
    "    s = mul_matrix_list(my_list)\n",
    "    if(s != None):\n",
    "        print_matrix(s)\n",
    "    else:\n",
    "        print(\"carpilamaz--------------------------------------\")\n",
    "\n",
    "##  test 2 -> Başarılı\n",
    "    my_list2 = []\n",
    "    for i in range(5):\n",
    "        my_list2.append(new_matrix(4,4))\n",
    "    s2 = mul_matrix_list(my_list2)\n",
    "    if(s2 != None):\n",
    "        print_matrix(s2)\n",
    "    else:\n",
    "        print(\"carpilamaz--------------------------------------\")"
   ]
  },
  {
   "cell_type": "code",
   "execution_count": 137,
   "metadata": {},
   "outputs": [
    {
     "name": "stdout",
     "output_type": "stream",
     "text": [
      "----------------\n",
      "[7, 1, 2, 8, 7, 7]\n",
      "[10, 2, 3, 9, 0, 6]\n",
      "[2, 10, 10, 1, 0, 5]\n",
      "----------------\n",
      "[5, 1, 2, 2, 7, 4]\n",
      "[2, 7, 9, 6, 4, 1]\n",
      "[9, 6, 1, 4, 6, 9]\n",
      "----------------\n",
      "[1, 0, 1, 10, 1, 1]\n",
      "[0, 9, 9, 1, 10, 5]\n",
      "[10, 5, 0, 1, 7, 4]\n",
      "----------------\n",
      "[5, 9, 2, 10, 3, 9]\n",
      "[4, 3, 10, 1, 0, 10]\n",
      "[3, 9, 3, 7, 3, 6]\n",
      "----------------\n",
      "[5, 4, 4, 6, 9, 10]\n",
      "[0, 4, 2, 3, 9, 3]\n",
      "[10, 0, 1, 5, 8, 10]\n",
      "carpilamaz--------------------------------------\n",
      "----------------\n",
      "[2, 10, 3, 2]\n",
      "[9, 9, 7, 6]\n",
      "[0, 3, 9, 7]\n",
      "[1, 9, 3, 6]\n",
      "----------------\n",
      "[7, 5, 1, 4]\n",
      "[9, 8, 10, 7]\n",
      "[4, 8, 6, 10]\n",
      "[0, 10, 3, 1]\n",
      "----------------\n",
      "[10, 0, 4, 4]\n",
      "[3, 5, 7, 6]\n",
      "[2, 8, 10, 6]\n",
      "[7, 2, 9, 10]\n",
      "----------------\n",
      "[1, 4, 9, 0]\n",
      "[8, 9, 6, 5]\n",
      "[10, 3, 6, 2]\n",
      "[8, 1, 2, 2]\n",
      "----------------\n",
      "[7, 0, 6, 7]\n",
      "[5, 4, 3, 0]\n",
      "[7, 5, 6, 7]\n",
      "[3, 10, 3, 1]\n",
      "carpilamaz--------------------------------------\n"
     ]
    }
   ],
   "source": [
    " tester()"
   ]
  },
  {
   "cell_type": "code",
   "execution_count": null,
   "metadata": {},
   "outputs": [],
   "source": []
  },
  {
   "cell_type": "code",
   "execution_count": null,
   "metadata": {},
   "outputs": [],
   "source": []
  }
 ],
 "metadata": {
  "kernelspec": {
   "display_name": "Python 3",
   "language": "python",
   "name": "python3"
  },
  "language_info": {
   "codemirror_mode": {
    "name": "ipython",
    "version": 3
   },
   "file_extension": ".py",
   "mimetype": "text/x-python",
   "name": "python",
   "nbconvert_exporter": "python",
   "pygments_lexer": "ipython3",
   "version": "3.7.3"
  }
 },
 "nbformat": 4,
 "nbformat_minor": 2
}
