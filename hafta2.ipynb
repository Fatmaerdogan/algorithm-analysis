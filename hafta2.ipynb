{
 "cells": [
  {
   "cell_type": "code",
   "execution_count": 1,
   "metadata": {},
   "outputs": [],
   "source": [
    "def m_f_1(list=[4,-3,5,-2,-1,2,6,-2]):\n",
    "    s=0\n",
    "    n=len(list)\n",
    "    maxSum=0\n",
    "    for i in range(n):\n",
    "        for j in range(i,n):\n",
    "            t=0\n",
    "            for k in range(i,j):\n",
    "                t=t+list[k]\n",
    "                s=s+1\n",
    "            if t> maxSum:\n",
    "                maxSum =t\n",
    "    return maxSum,s"
   ]
  },
  {
   "cell_type": "code",
   "execution_count": 3,
   "metadata": {},
   "outputs": [],
   "source": [
    "m,s=m_f_1()"
   ]
  },
  {
   "cell_type": "code",
   "execution_count": 4,
   "metadata": {},
   "outputs": [
    {
     "name": "stdout",
     "output_type": "stream",
     "text": [
      "11 84\n"
     ]
    }
   ],
   "source": [
    "print(m,s)"
   ]
  },
  {
   "cell_type": "code",
   "execution_count": 5,
   "metadata": {},
   "outputs": [],
   "source": [
    "def m_f_2(list=[4,-3,5,-2,-1,2,6,-2]):\n",
    "    s=0\n",
    "    n=len(list)\n",
    "    maxSum=0\n",
    "    for i in range(n):\n",
    "        t=0\n",
    "        for j in range(i,n):\n",
    "            t=t+list[j]\n",
    "            s=s+1\n",
    "            if t> maxSum:\n",
    "                maxSum =t\n",
    "    return maxSum,s"
   ]
  },
  {
   "cell_type": "code",
   "execution_count": 6,
   "metadata": {},
   "outputs": [],
   "source": [
    "m,s=m_f_2()"
   ]
  },
  {
   "cell_type": "code",
   "execution_count": 7,
   "metadata": {},
   "outputs": [
    {
     "name": "stdout",
     "output_type": "stream",
     "text": [
      "11 36\n"
     ]
    }
   ],
   "source": [
    "print(m,s)"
   ]
  },
  {
   "cell_type": "code",
   "execution_count": 8,
   "metadata": {},
   "outputs": [],
   "source": [
    "\n",
    "def max_of_two(a,b):\n",
    "    if a>b:\n",
    "        return a\n",
    "    else:\n",
    "        return b\n",
    "def max_of_three(a,b,c):\n",
    "    return(max_of_two(a,max_of_two(b,c)))"
   ]
  },
  {
   "cell_type": "code",
   "execution_count": 9,
   "metadata": {},
   "outputs": [],
   "source": [
    "def m_f_3(list=[4,-3,5,-2,-1,2,6,-2]):\n",
    "    n=len(list)\n",
    "    if n==1:\n",
    "        return list[0]\n",
    "    else:\n",
    "        left_list=list[0:n//2]\n",
    "        right_list=list[n//2:n]\n",
    "        \n",
    "        leftSum=m_f_3(left_list)\n",
    "        rightSum=m_f_3(right_list)\n",
    "        \n",
    "        centerSum=0\n",
    "        \n",
    "        tempSum=0\n",
    "        LS=0\n",
    "        t=0\n",
    "        for i in range((n//2)-1,-1,-1):\n",
    "            t=t+list[i]\n",
    "            if t>LS:\n",
    "                LS=t\n",
    "        RS=0\n",
    "        t=0\n",
    "        for j in range((n//2),n):\n",
    "            t=t+list[j]\n",
    "            if t>RS:\n",
    "                RS=t\n",
    "        centerSum=RS+LS\n",
    "        return max_of_three(leftSum,rightSum,centerSum)"
   ]
  },
  {
   "cell_type": "code",
   "execution_count": 10,
   "metadata": {},
   "outputs": [],
   "source": [
    "c=m_f_3()"
   ]
  },
  {
   "cell_type": "code",
   "execution_count": 11,
   "metadata": {},
   "outputs": [
    {
     "name": "stdout",
     "output_type": "stream",
     "text": [
      "11\n"
     ]
    }
   ],
   "source": [
    "print(c)"
   ]
  },
  {
   "cell_type": "code",
   "execution_count": null,
   "metadata": {},
   "outputs": [],
   "source": []
  }
 ],
 "metadata": {
  "kernelspec": {
   "display_name": "Python 3",
   "language": "python",
   "name": "python3"
  },
  "language_info": {
   "codemirror_mode": {
    "name": "ipython",
    "version": 3
   },
   "file_extension": ".py",
   "mimetype": "text/x-python",
   "name": "python",
   "nbconvert_exporter": "python",
   "pygments_lexer": "ipython3",
   "version": "3.7.3"
  }
 },
 "nbformat": 4,
 "nbformat_minor": 2
}
